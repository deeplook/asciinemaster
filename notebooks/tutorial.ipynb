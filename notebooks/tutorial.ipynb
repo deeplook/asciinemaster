{
 "cells": [
  {
   "cell_type": "markdown",
   "metadata": {},
   "source": [
    "# Asciinemaster Tutorial"
   ]
  },
  {
   "cell_type": "code",
   "execution_count": 3,
   "metadata": {},
   "outputs": [
    {
     "name": "stdout",
     "output_type": "stream",
     "text": [
      "Collecting capturer\n",
      "  Downloading https://files.pythonhosted.org/packages/a7/1f/e41ce5ca0410356453f6d5d0102feedc64b9427dc54ee505ff443714b65c/capturer-2.4-py2.py3-none-any.whl\n",
      "Collecting humanfriendly>=2.1 (from capturer)\n",
      "  Downloading https://files.pythonhosted.org/packages/4b/46/9f31dfc71eeb73c0f52c96ee189c36751c4f59b6a047c7ce18a98cb1fe3d/humanfriendly-4.12-py2.py3-none-any.whl (69kB)\n",
      "\u001b[K    100% |████████████████████████████████| 71kB 3.6MB/s ta 0:00:011\n",
      "\u001b[?25hInstalling collected packages: humanfriendly, capturer\n",
      "Successfully installed capturer-2.4 humanfriendly-4.12\n"
     ]
    }
   ],
   "source": [
    "# this should not be needed\n",
    "! pip install capturer"
   ]
  },
  {
   "cell_type": "code",
   "execution_count": 22,
   "metadata": {},
   "outputs": [],
   "source": [
    "import random\n",
    "from asciinemaster.asciinemaster import Typist"
   ]
  },
  {
   "cell_type": "code",
   "execution_count": 27,
   "metadata": {},
   "outputs": [
    {
     "name": "stdout",
     "output_type": "stream",
     "text": [
      "The quick brow fox jumped over the lazy old dog."
     ]
    }
   ],
   "source": [
    "typist = Typist()\n",
    "line = \"The quick brown fox jumped over the lazy old dog.\"\n",
    "for _delay, ch in typist.timed_type(line, delay_func = lambda: random.random() / 5.0, sleep=True):\n",
    "    print(ch, end='')"
   ]
  }
 ],
 "metadata": {
  "kernelspec": {
   "display_name": "Python 3",
   "language": "python",
   "name": "python3"
  },
  "language_info": {
   "codemirror_mode": {
    "name": "ipython",
    "version": 3
   },
   "file_extension": ".py",
   "mimetype": "text/x-python",
   "name": "python",
   "nbconvert_exporter": "python",
   "pygments_lexer": "ipython3",
   "version": "3.6.3"
  }
 },
 "nbformat": 4,
 "nbformat_minor": 2
}
